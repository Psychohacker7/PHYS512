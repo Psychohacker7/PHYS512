{
 "cells": [
  {
   "cell_type": "markdown",
   "id": "0a13b14e",
   "metadata": {},
   "source": [
    "# Problem 1"
   ]
  },
  {
   "cell_type": "markdown",
   "id": "4cd15fd2",
   "metadata": {},
   "source": [
    "We first write a function to integrate\n",
    "\n",
    "$$\n",
    "\\frac{d y }{dx}= \\frac{y}{1+x^{2}}\n",
    "$$\n",
    "\n",
    "from $x=-20$ to $x=20$ with $y(-20)=1$ using 200 steps. "
   ]
  },
  {
   "cell_type": "code",
   "execution_count": 7,
   "id": "17c670f5",
   "metadata": {},
   "outputs": [
    {
     "name": "stdout",
     "output_type": "stream",
     "text": [
      "0.00011776140522522912\n"
     ]
    },
    {
     "data": {
      "image/png": "[encoded data removed]",
      "text/plain": [
       "<Figure size 432x288 with 1 Axes>"
      ]
     },
     "metadata": {
      "needs_background": "light"
     },
     "output_type": "display_data"
    }
   ],
   "source": [
    "import numpy as np\n",
    "from matplotlib import pyplot as plt\n",
    "\n",
    "#solve y'=y/(1+x^2) with RK4\n",
    "\n",
    "\n",
    "def f(x, y):#y'=y/(1+x^2)\n",
    "    return y/(1+x**2)\n",
    "\n",
    "\n",
    "def rk4(fun,x,y,h):\n",
    "    k1=fun(x,y)*h\n",
    "    k2=h*fun(x+h/2,y+k1/2)\n",
    "    k3=h*fun(x+h/2,y+k2/2)\n",
    "    k4=h*fun(x+h,y+k3)\n",
    "    dy=(k1+2*k2+2*k3+k4)/6\n",
    "    return y+dy\n",
    "\n",
    "\n",
    "npt=201\n",
    "x=np.linspace(-20,20,npt)\n",
    "y=np.zeros([2,npt])\n",
    "y[0,0]=1 #starting conditions\n",
    "\n",
    "for i in range(npt-1):\n",
    "    h=x[i+1]-x[i]\n",
    "    y[:,i+1]=rk4(f,x[i],y[:,i],h)\n",
    "    \n",
    "\n",
    "c=1/np.exp(np.arctan(-20))\n",
    "truth=c*np.exp(np.arctan(x))\n",
    "print(np.std(truth-y[0,:]))\n",
    "\n",
    "plt.ion()\n",
    "plt.plot(x,y[0,:]-truth)\n",
    "plt.title('RK4 error, ' + repr(npt)+ ' points')\n",
    "plt.show()"
   ]
  },
  {
   "cell_type": "markdown",
   "id": "3ab2a998",
   "metadata": {},
   "source": [
    "Now we define another solver that takes a step of length $h$, compares that to two steps of length $h / 2$, and uses them to cancel out the leading-order error term from RK4. How many function evaluations per step does this one use? Use this modified stepper to carry out the same ODE solution using the same number of function evaluations as the original. Which is more accurate?"
   ]
  },
  {
   "cell_type": "markdown",
   "id": "e79d073c",
   "metadata": {},
   "source": [
    "\n",
    "Recalling that for a step-size $h>0$, the Runge Kutta of order 4 method is constructed with:\n",
    "$$\n",
    "\\begin{aligned}\n",
    "&y_{n+1}=y_n+\\frac{1}{6}\\left(k_1+2 k_2+2 k_3+k_4\\right) h \\\\\n",
    "&x_{n+1}=x_n+h\n",
    "\\end{aligned}\n",
    "$$\n",
    "for $n=0,1,2,3, \\ldots$ using ${ }^{[3]}$\n",
    "$$\n",
    "\\begin{aligned}\n",
    "&k_1=f\\left(x_n, y_n\\right) \\\\\n",
    "&k_2=f\\left(x_n+\\frac{h}{2}, y_n+h \\frac{k_1}{2}\\right), \\\\\n",
    "&k_3=f\\left(x_n+\\frac{h}{2}, y_n+h \\frac{k_2}{2}\\right), \\\\\n",
    "&k_4=f\\left(x_n+h, y_n+h k_3\\right) .\n",
    "\\end{aligned}\n",
    "$$\n",
    "\n",
    "\n",
    "With $y_2$ being the approximation obtained using two steps of size $h/2$ and $y_1$ with one step of size $h$,we have:\n",
    "$$\n",
    "\\begin{aligned}\n",
    "& {y}_{n+1}=y_1+C h^{ 5}+\\mathscr{O}\\left(h^{6}\\right) \\\\\n",
    "& {y}_{n+1}=y_2+2 C\\left(\\frac{h}{2}\\right)^{ 5}+\\mathscr{O}\\left(h^{6}\\right) .\n",
    "\\end{aligned}\n",
    "$$\n",
    "So that\n",
    "$$\n",
    "\\left|y_1-y_2\\right|=C h^{ 5}\\left(1-\\frac{1}{2^4}\\right) \\Leftrightarrow C=\\frac{\\left|y_1-y_2\\right|}{\\left(1-2^{-4}\\right) h^{ 5}} .\n",
    "$$\n",
    "Substituing the relation  back in the true solution we get\n",
    "$$\n",
    " {y}_{n+1}=y_2+\\varepsilon+\\mathscr{O}\\left(h^{6}\\right),\n",
    "$$\n",
    "where\n",
    "$$\n",
    "\\varepsilon=\\frac{\\left|y_1-y_2\\right|}{2^4-1}\n",
    "$$\n",
    "can be considered as a convenient indicator of the truncation error. That is, we have improved our estimate to the order $ 5$.\n",
    "$$\n",
    " {y}_{n+1}=y_2+\\frac{\\left|y_1-y_2\\right|}{15}+\\mathscr{O}\\left(h^6\\right) .\n",
    "$$\n",
    "This estimate is accurate to fifth order, one order higter than with the original step $h$. However, this method is not efficient. It seems this method, theoretically at least, is more accurate, and it uses 8 function calls (instead of 11 in the classical rk4)."
   ]
  },
  {
   "cell_type": "code",
   "execution_count": 21,
   "id": "138b4ab9",
   "metadata": {},
   "outputs": [
    {
     "data": {
      "image/png": "[encoded data removed]",
      "text/plain": [
       "<Figure size 432x288 with 2 Axes>"
      ]
     },
     "metadata": {
      "needs_background": "light"
     },
     "output_type": "display_data"
    }
   ],
   "source": [
    "def rk4_stepd(fun, x, y, h):\n",
    "    #Half step\n",
    "    k1=fun(x,y)*h\n",
    "    k2=h*fun(x+h/4,y+k1/4)\n",
    "    k3=h*fun(x+h/4,y+k2/4)\n",
    "    k4=h*fun(x+h/2,y+k3/2)\n",
    "    dy=(k1+2*k2+2*k3+k4)/12\n",
    "    \n",
    "    y2=y+2*dy\n",
    "    y1=rk4(fun,x,y,h)\n",
    "    \n",
    "    eps=abs(y2-y1)/15\n",
    "    \n",
    "    return y+eps\n",
    "\n",
    "\n",
    "npt=201\n",
    "x=np.linspace(-20,20,npt)\n",
    "y=np.zeros([2,npt])\n",
    "y_mod=np.zeros([2,npt])\n",
    "\n",
    "y[0,0]=1#starting conditions\n",
    "y_mod[0,0]=1\n",
    "\n",
    "for i in range(npt-1):\n",
    "    h=x[i+1]-x[i]\n",
    "    y[:,i+1]=rk4(f,x[i],y[:,i],h)\n",
    "    y_mod[:,i+1]=rk4_stepd(f,x[i],y[:,i],h)\n",
    "    \n",
    "    \n",
    "    \n",
    "\n",
    "c=1/np.exp(np.arctan(-20))\n",
    "truth=c*np.exp(np.arctan(x))\n",
    "#print(np.std(truth-y[0,:]))\n",
    "\n",
    "fig, ax = plt.subplots(1, 2)\n",
    "fig.suptitle('RK4 comparison error')\n",
    "\n",
    "ax[0].plot(x, y[0,:]-truth)\n",
    "ax[0].set_title('RK4 error')\n",
    "\n",
    "ax[1].plot(x,y_mod[0,:]-truth)\n",
    "ax[1].set_title('RK4 step error')\n",
    "\n",
    "plt.show()"
   ]
  },
  {
   "cell_type": "markdown",
   "id": "2023178e",
   "metadata": {},
   "source": [
    "For some reason, we obtain a bigger error for the improved version. This means that something must have went wrong somewhere. However, I wasn't able to find out what.\n",
    "\n",
    "The only thing I could think of is how the same step size all over the function could possibly affect the accuracy, since know that if step size is too large, we might shoot off too far in one direction (along the local tangents) and hence potentially miss oscillations or other interesting feature.\n",
    "\n",
    "Conversely, if the step size is smaller than necessary we might be uselessly increasing -time- complexity and causing a bigger deviation from the true function"
   ]
  },
  {
   "cell_type": "markdown",
   "id": "9e9723c1",
   "metadata": {},
   "source": [
    "# Problem 2"
   ]
  },
  {
   "cell_type": "markdown",
   "id": "eb8af061",
   "metadata": {},
   "source": [
    "a) Write a program to solve for the decay products of U238 (refer to slides for the decay chain). You can use the ODE solver from scipy, but you'll need to set the problem up properly. Please make sure to include all the decay prodcuts in the chain. Assume you start from a sample of pure U238 (in nature, this sort of separation happens chemically when rocks are formed). Which solver would you use for this problem?"
   ]
  },
  {
   "cell_type": "markdown",
   "id": "cfa001f5",
   "metadata": {},
   "source": [
    "We use a module called radioactivedecay."
   ]
  },
  {
   "cell_type": "markdown",
   "id": "eb7dde32",
   "metadata": {},
   "source": [
    "The radioactive deacay is modeled by the following equation\n",
    "$$\n",
    "-\\frac{d N}{d t}=N \\lambda\n",
    "$$\n",
    "where $\\frac{d N}{d t}$ is the number of decays per unit time, $N$ is the current number of radioactive atoms, and $\\lambda$ the decay probability.\n",
    "The analytical solution is straightforward:\n",
    "$$\n",
    "N(t)=N(t_0)e^{-\\lambda(t-t_0)}\n",
    "$$\n",
    "WLOG, we can take $t_0=0$. As for the relation between the decay probability and halflife $\\tau_{1/2}$, we use the definition of the latter, ie the time taken for the number atoms to drop by half, to get:\n",
    "$$\n",
    "\\lambda=\\frac{ln(2)}{\\tau_{1/2}}\n",
    "$$"
   ]
  },
  {
   "cell_type": "markdown",
   "id": "26710057",
   "metadata": {},
   "source": [
    "Since the halflifes of elements in the decay chains vary by several orders of magnitudes, we use the method InventoryHP to improve the numerical precision and reduce the round off errors both in computations and display"
   ]
  },
  {
   "cell_type": "code",
   "execution_count": 32,
   "id": "fb62a8c0",
   "metadata": {},
   "outputs": [
    {
     "data": {
      "text/plain": [
       "{'At-218': 0.0001075381815982559,\n",
       " 'Bi-210': 0.5376909106645484,\n",
       " 'Bi-214': 0.5376908004531086,\n",
       " 'Hg-206': 1.0216127302595074e-08,\n",
       " 'Pa-234': 0.0008602433606534023,\n",
       " 'Pa-234m': 0.5376521004082845,\n",
       " 'Pb-206': 0.0,\n",
       " 'Pb-210': 0.5376909106628968,\n",
       " 'Pb-214': 0.5375833698096874,\n",
       " 'Po-210': 0.5376909107101416,\n",
       " 'Po-214': 0.537577992923195,\n",
       " 'Po-218': 0.5376909079912795,\n",
       " 'Ra-226': 0.537690907990019,\n",
       " 'Rn-218': 1.0753818159825589e-07,\n",
       " 'Rn-222': 0.5376909079912787,\n",
       " 'Th-230': 0.5376907154417977,\n",
       " 'Th-234': 0.5376521004082843,\n",
       " 'Tl-206': 7.199681293798004e-07,\n",
       " 'Tl-210': 0.00011291506809515286,\n",
       " 'U-234': 0.53768164401697,\n",
       " 'U-238': 0.5376521004003442}"
      ]
     },
     "execution_count": 32,
     "metadata": {},
     "output_type": "execute_result"
    }
   ],
   "source": [
    ">>> import radioactivedecay as rd\n",
    ">>> U238_t0 = rd.InventoryHP({'U-238': 1.0}, 'Bq') #initialize decay chain of 1.0 Bq of U238\n",
    ">>> U238_t1 = U238_t0.decay(4e9, 'y')\n",
    ">>> U238_t1.activities('Bq')"
   ]
  },
  {
   "cell_type": "code",
   "execution_count": 30,
   "id": "19861711",
   "metadata": {
    "scrolled": false
   },
   "outputs": [
    {
     "data": {
      "text/plain": [
       "(<Figure size 432x288 with 1 Axes>,\n",
       " <AxesSubplot:xlabel='Time (y)', ylabel='Activity (Bq)'>)"
      ]
     },
     "execution_count": 30,
     "metadata": {},
     "output_type": "execute_result"
    },
    {
     "data": {
      "image/png": "[encoded data removed]",
      "text/plain": [
       "<Figure size 432x288 with 1 Axes>"
      ]
     },
     "metadata": {
      "needs_background": "light"
     },
     "output_type": "display_data"
    }
   ],
   "source": [
    "U238_t0.plot(4e9, 'y', yunits='Bq')"
   ]
  },
  {
   "cell_type": "markdown",
   "id": "763ffbc3",
   "metadata": {},
   "source": [
    "# Problem 3"
   ]
  },
  {
   "cell_type": "markdown",
   "id": "293484f4",
   "metadata": {},
   "source": [
    "We'll do a linear least-squares fit to some real data in this problem. Look at the file dish_zenith.txt. This contains photogrammetry data for a prototype telescope dish. Photogrammetry attempts to reconstruct surfaces by working out the 3-dimensional positions of targets from many pictures (as an aside, the algorithms behind photogrammetry are another fun least-squarestype problem, but beyond the scope of this class). The end result is that dish_zenith.txt contains the $(\\mathrm{x}, \\mathrm{y}, \\mathrm{z})$ positions in $\\mathrm{mm}$ of a few hundred targets placed on the dish. The ideal telescope dish should be a rotationally symmetric paraboloid. We will try to measure the shape of that paraboloid, and see how well we did."
   ]
  },
  {
   "cell_type": "markdown",
   "id": "239fd5be",
   "metadata": {},
   "source": [
    "a) Helpfully, I have oriented the points in the file so that the dish is pointing in the $+z$ direction (in the general problem, you would have to fit for direction the dish is pointing in as well, but we will skip that here). For a rotationally symmetric paraboloid, we know that\n",
    "\n",
    "$$\n",
    "z-z_{0}=a\\left(\\left(x-x_{0}\\right)^{2}+\\left(y-y_{0}\\right)^{2}\\right)\n",
    "$$\n",
    "\n",
    "and we need to solve for $x_{0}, y_{0}, z_{0}$, and $a$. While at first glance this problem may appear non-linear, show that we can pick a new set of parameters that make the problem linear. What are these new parameters, and how do they relate to the old ones?"
   ]
  },
  {
   "cell_type": "code",
   "execution_count": null,
   "id": "d50e965d",
   "metadata": {},
   "outputs": [],
   "source": []
  }
 ],
 "metadata": {
  "kernelspec": {
   "display_name": "Python 3 (ipykernel)",
   "language": "python",
   "name": "python3"
  },
  "language_info": {
   "codemirror_mode": {
    "name": "ipython",
    "version": 3
   },
   "file_extension": ".py",
   "mimetype": "text/x-python",
   "name": "python",
   "nbconvert_exporter": "python",
   "pygments_lexer": "ipython3",
   "version": "3.9.12"
  }
 },
 "nbformat": 4,
 "nbformat_minor": 5
}
