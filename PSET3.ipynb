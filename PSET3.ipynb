{
 "cells": [
  {
   "cell_type": "markdown",
   "id": "0a13b14e",
   "metadata": {},
   "source": [
    "# Problem 1"
   ]
  },
  {
   "cell_type": "markdown",
   "id": "4cd15fd2",
   "metadata": {},
   "source": [
    "We first write a function to integrate\n",
    "\n",
    "$$\n",
    "\\frac{d y }{dx}= \\frac{y}{1+x^{2}}\n",
    "$$\n",
    "\n",
    "from $x=-20$ to $x=20$ with $y(-20)=1$ using 200 steps. "
   ]
  },
  {
   "cell_type": "code",
   "execution_count": 7,
   "id": "17c670f5",
   "metadata": {},
   "outputs": [
    {
     "name": "stdout",
     "output_type": "stream",
     "text": [
      "0.00011776140522522912\n"
     ]
    },
    {
     "data": {
      "image/png": "[encoded data removed]",
      "text/plain": [
       "<Figure size 432x288 with 1 Axes>"
      ]
     },
     "metadata": {
      "needs_background": "light"
     },
     "output_type": "display_data"
    }
   ],
   "source": [
    "import numpy as np\n",
    "from matplotlib import pyplot as plt\n",
    "\n",
    "#solve y'=y/(1+x^2) with RK4\n",
    "\n",
    "\n",
    "def f(x, y):#y'=y/(1+x^2)\n",
    "    return y/(1+x**2)\n",
    "\n",
    "\n",
    "def rk4(fun,x,y,h):\n",
    "    k1=fun(x,y)*h\n",
    "    k2=h*fun(x+h/2,y+k1/2)\n",
    "    k3=h*fun(x+h/2,y+k2/2)\n",
    "    k4=h*fun(x+h,y+k3)\n",
    "    dy=(k1+2*k2+2*k3+k4)/6\n",
    "    return y+dy\n",
    "\n",
    "\n",
    "npt=201\n",
    "x=np.linspace(-20,20,npt)\n",
    "y=np.zeros([2,npt])\n",
    "y[0,0]=1 #starting conditions\n",
    "\n",
    "for i in range(npt-1):\n",
    "    h=x[i+1]-x[i]\n",
    "    y[:,i+1]=rk4(f,x[i],y[:,i],h)\n",
    "    \n",
    "\n",
    "c=1/np.exp(np.arctan(-20))\n",
    "truth=c*np.exp(np.arctan(x))\n",
    "print(np.std(truth-y[0,:]))\n",
    "\n",
    "plt.ion()\n",
    "plt.plot(x,y[0,:]-truth)\n",
    "plt.title('RK4 error, ' + repr(npt)+ ' points')\n",
    "plt.show()"
   ]
  },
  {
   "cell_type": "markdown",
   "id": "3ab2a998",
   "metadata": {},
   "source": [
    "Now we define another solver that takes a step of length $h$, compares that to two steps of length $h / 2$, and uses them to cancel out the leading-order error term from RK4. How many function evaluations per step does this one use? Use this modified stepper to carry out the same ODE solution using the same number of function evaluations as the original. Which is more accurate?"
   ]
  },
  {
   "cell_type": "markdown",
   "id": "e79d073c",
   "metadata": {},
   "source": [
    "\n",
    "Recalling that for a step-size $h>0$, the Runge Kutta of order 4 method is constructed with:\n",
    "$$\n",
    "\\begin{aligned}\n",
    "&y_{n+1}=y_n+\\frac{1}{6}\\left(k_1+2 k_2+2 k_3+k_4\\right) h \\\\\n",
    "&x_{n+1}=x_n+h\n",
    "\\end{aligned}\n",
    "$$\n",
    "for $n=0,1,2,3, \\ldots$ using ${ }^{[3]}$\n",
    "$$\n",
    "\\begin{aligned}\n",
    "&k_1=f\\left(x_n, y_n\\right) \\\\\n",
    "&k_2=f\\left(x_n+\\frac{h}{2}, y_n+h \\frac{k_1}{2}\\right), \\\\\n",
    "&k_3=f\\left(x_n+\\frac{h}{2}, y_n+h \\frac{k_2}{2}\\right), \\\\\n",
    "&k_4=f\\left(x_n+h, y_n+h k_3\\right) .\n",
    "\\end{aligned}\n",
    "$$\n",
    "\n",
    "\n",
    "With $y_2$ being the approximation obtained using two steps of size $h/2$ and $y_1$ with one step of size $h$,we have:\n",
    "$$\n",
    "\\begin{aligned}\n",
    "& {y}_{n+1}=y_1+C h^{ 5}+\\mathscr{O}\\left(h^{6}\\right) \\\\\n",
    "& {y}_{n+1}=y_2+2 C\\left(\\frac{h}{2}\\right)^{ 5}+\\mathscr{O}\\left(h^{6}\\right) .\n",
    "\\end{aligned}\n",
    "$$\n",
    "So that\n",
    "$$\n",
    "\\left|y_1-y_2\\right|=C h^{ 5}\\left(1-\\frac{1}{2^4}\\right) \\Leftrightarrow C=\\frac{\\left|y_1-y_2\\right|}{\\left(1-2^{-4}\\right) h^{ 5}} .\n",
    "$$\n",
    "Substituing the relation  back in the true solution we get\n",
    "$$\n",
    " {y}_{n+1}=y_2+\\varepsilon+\\mathscr{O}\\left(h^{6}\\right),\n",
    "$$\n",
    "where\n",
    "$$\n",
    "\\varepsilon=\\frac{\\left|y_1-y_2\\right|}{2^4-1}\n",
    "$$\n",
    "can be considered as a convenient indicator of the truncation error. That is, we have improved our estimate to the order $ 5$.\n",
    "$$\n",
    " {y}_{n+1}=y_2+\\frac{\\left|y_1-y_2\\right|}{15}+\\mathscr{O}\\left(h^6\\right) .\n",
    "$$\n",
    "This estimate is accurate to fifth order, one order higter than with the original step $h$. However, this method is not efficient. It seems this method, theoretically at least, is more accurate, and it uses 8 function calls (instead of 11 in the classical rk4)."
   ]
  },
  {
   "cell_type": "code",
   "execution_count": 21,
   "id": "138b4ab9",
   "metadata": {},
   "outputs": [
    {
     "data": {
      "image/png": "[encoded data removed]",
      "text/plain": [
       "<Figure size 432x288 with 2 Axes>"
      ]
     },
     "metadata": {
      "needs_background": "light"
     },
     "output_type": "display_data"
    }
   ],
   "source": [
    "def rk4_stepd(fun, x, y, h):\n",
    "    #Half step\n",
    "    k1=fun(x,y)*h\n",
    "    k2=h*fun(x+h/4,y+k1/4)\n",
    "    k3=h*fun(x+h/4,y+k2/4)\n",
    "    k4=h*fun(x+h/2,y+k3/2)\n",
    "    dy=(k1+2*k2+2*k3+k4)/12\n",
    "    \n",
    "    y2=y+2*dy\n",
    "    y1=rk4(fun,x,y,h)\n",
    "    \n",
    "    eps=abs(y2-y1)/15\n",
    "    \n",
    "    return y+eps\n",
    "\n",
    "\n",
    "npt=201\n",
    "x=np.linspace(-20,20,npt)\n",
    "y=np.zeros([2,npt])\n",
    "y_mod=np.zeros([2,npt])\n",
    "\n",
    "y[0,0]=1#starting conditions\n",
    "y_mod[0,0]=1\n",
    "\n",
    "for i in range(npt-1):\n",
    "    h=x[i+1]-x[i]\n",
    "    y[:,i+1]=rk4(f,x[i],y[:,i],h)\n",
    "    y_mod[:,i+1]=rk4_stepd(f,x[i],y[:,i],h)\n",
    "    \n",
    "    \n",
    "    \n",
    "\n",
    "c=1/np.exp(np.arctan(-20))\n",
    "truth=c*np.exp(np.arctan(x))\n",
    "#print(np.std(truth-y[0,:]))\n",
    "\n",
    "fig, ax = plt.subplots(1, 2)\n",
    "fig.suptitle('RK4 comparison error')\n",
    "\n",
    "ax[0].plot(x, y[0,:]-truth)\n",
    "ax[0].set_title('RK4 error')\n",
    "\n",
    "ax[1].plot(x,y_mod[0,:]-truth)\n",
    "ax[1].set_title('RK4 step error')\n",
    "\n",
    "plt.show()"
   ]
  },
  {
   "cell_type": "markdown",
   "id": "2023178e",
   "metadata": {},
   "source": [
    "For some reason, we obtain a bigger error for the improved version. This means that something must have went wrong somewhere. However, I wasn't able to find out what.\n",
    "\n",
    "The only thing I could think of is how the same step size all over the function could possibly affect the accuracy, since know that if step size is too large, we might shoot off too far in one direction (along the local tangents) and hence potentially miss oscillations or other interesting feature.\n",
    "\n",
    "Conversely, if the step size is smaller than necessary we might be uselessly increasing -time- complexity and causing a bigger deviation from the true function"
   ]
  },
  {
   "cell_type": "code",
   "execution_count": null,
   "id": "fb62a8c0",
   "metadata": {},
   "outputs": [],
   "source": []
  }
 ],
 "metadata": {
  "kernelspec": {
   "display_name": "Python 3 (ipykernel)",
   "language": "python",
   "name": "python3"
  },
  "language_info": {
   "codemirror_mode": {
    "name": "ipython",
    "version": 3
   },
   "file_extension": ".py",
   "mimetype": "text/x-python",
   "name": "python",
   "nbconvert_exporter": "python",
   "pygments_lexer": "ipython3",
   "version": "3.9.12"
  }
 },
 "nbformat": 4,
 "nbformat_minor": 5
}
